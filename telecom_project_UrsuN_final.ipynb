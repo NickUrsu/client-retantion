{
 "cells": [
  {
   "cell_type": "markdown",
   "metadata": {},
   "source": [
    "## Телеком\n",
    "Оператор связи «Ниединогоразрыва.ком» хочет научиться прогнозировать отток клиентов. Если выяснится, что пользователь планирует уйти, ему будут предложены промокоды и специальные условия. Команда оператора собрала персональные данные о некоторых клиентах, информацию об их тарифах и договорах.\n",
    "\n",
    "### Описание услуг\n",
    "Оператор предоставляет два основных типа услуг:\n",
    "1. Стационарную телефонную связь. Возможно подключение телефонного аппарата к нескольким линиям одновременно.\n",
    "2. Интернет. Подключение может быть двух типов: через телефонную линию (DSL, от англ. digital subscriber line, «цифровая абонентская линия») или оптоволоконный кабель (Fiber optic).\n",
    "\n",
    "Необходимо подготовить модель предсказывающую желание пользователя прекратить использование услуг компании"
   ]
  },
  {
   "cell_type": "code",
   "execution_count": 1,
   "metadata": {},
   "outputs": [],
   "source": [
    "FOLDER_PATH = (\"C:\\\\Users\\\\nicku\\\\OneDrive\\\\Documents\\\\Data_Scinence\\\\Yandex Practicum\" +\n",
    "                \"\\\\Дипломные проект. Телеком\\\\final_provider\")"
   ]
  },
  {
   "cell_type": "code",
   "execution_count": 46,
   "metadata": {},
   "outputs": [],
   "source": [
    "import pandas as pd\n",
    "import sklearn\n",
    "from sklearn import preprocessing\n",
    "import numpy as np\n",
    "import seaborn as sns\n",
    "import matplotlib.pyplot as plt\n",
    "from sklearn.model_selection import train_test_split\n",
    "from sklearn.preprocessing import StandardScaler\n",
    "from sklearn.utils import shuffle\n",
    "import sys\n",
    "from lightgbm import LGBMClassifier\n",
    "from sklearn.model_selection import cross_val_score\n",
    "from sklearn.metrics import roc_auc_score\n",
    "from catboost import CatBoostClassifier\n",
    "from sklearn.metrics import accuracy_score\n",
    "import matplotlib.pyplot as plt\n",
    "from sklearn.metrics import confusion_matrix"
   ]
  },
  {
   "cell_type": "code",
   "execution_count": 4,
   "metadata": {},
   "outputs": [],
   "source": [
    "#прочитаем все входные данные \n",
    "contract_df = pd.read_csv(FOLDER_PATH+'\\\\contract.csv')\n",
    "internet_df = pd.read_csv(FOLDER_PATH+'\\\\internet.csv')\n",
    "phone_df = pd.read_csv(FOLDER_PATH+'\\\\phone.csv')\n",
    "personal_df = pd.read_csv(FOLDER_PATH+'\\\\personal.csv')"
   ]
  },
  {
   "cell_type": "markdown",
   "metadata": {},
   "source": [
    "contract_df = pd.read_csv('/datasets/final_provider/contract.csv')\n",
    "internet_df = pd.read_csv('/datasets/final_provider/internet.csv')\n",
    "personal_df = pd.read_csv('/datasets/final_provider/personal.csv')\n",
    "phone_df = pd.read_csv('/datasets/final_provider/phone.csv')"
   ]
  },
  {
   "cell_type": "markdown",
   "metadata": {},
   "source": [
    "### Данные прочитаны, выполним первичный анализ данных и на их основе составим план выполнения работы."
   ]
  },
  {
   "cell_type": "code",
   "execution_count": 5,
   "metadata": {},
   "outputs": [
    {
     "name": "stdout",
     "output_type": "stream",
     "text": [
      "<class 'pandas.core.frame.DataFrame'>\n",
      "RangeIndex: 7043 entries, 0 to 7042\n",
      "Data columns (total 8 columns):\n",
      " #   Column            Non-Null Count  Dtype  \n",
      "---  ------            --------------  -----  \n",
      " 0   customerID        7043 non-null   object \n",
      " 1   BeginDate         7043 non-null   object \n",
      " 2   EndDate           7043 non-null   object \n",
      " 3   Type              7043 non-null   object \n",
      " 4   PaperlessBilling  7043 non-null   object \n",
      " 5   PaymentMethod     7043 non-null   object \n",
      " 6   MonthlyCharges    7043 non-null   float64\n",
      " 7   TotalCharges      7043 non-null   object \n",
      "dtypes: float64(1), object(7)\n",
      "memory usage: 440.3+ KB\n"
     ]
    },
    {
     "data": {
      "text/html": [
       "<div>\n",
       "<style scoped>\n",
       "    .dataframe tbody tr th:only-of-type {\n",
       "        vertical-align: middle;\n",
       "    }\n",
       "\n",
       "    .dataframe tbody tr th {\n",
       "        vertical-align: top;\n",
       "    }\n",
       "\n",
       "    .dataframe thead th {\n",
       "        text-align: right;\n",
       "    }\n",
       "</style>\n",
       "<table border=\"1\" class=\"dataframe\">\n",
       "  <thead>\n",
       "    <tr style=\"text-align: right;\">\n",
       "      <th></th>\n",
       "      <th>customerID</th>\n",
       "      <th>BeginDate</th>\n",
       "      <th>EndDate</th>\n",
       "      <th>Type</th>\n",
       "      <th>PaperlessBilling</th>\n",
       "      <th>PaymentMethod</th>\n",
       "      <th>MonthlyCharges</th>\n",
       "      <th>TotalCharges</th>\n",
       "    </tr>\n",
       "  </thead>\n",
       "  <tbody>\n",
       "    <tr>\n",
       "      <th>0</th>\n",
       "      <td>7590-VHVEG</td>\n",
       "      <td>2020-01-01</td>\n",
       "      <td>No</td>\n",
       "      <td>Month-to-month</td>\n",
       "      <td>Yes</td>\n",
       "      <td>Electronic check</td>\n",
       "      <td>29.85</td>\n",
       "      <td>29.85</td>\n",
       "    </tr>\n",
       "    <tr>\n",
       "      <th>1</th>\n",
       "      <td>5575-GNVDE</td>\n",
       "      <td>2017-04-01</td>\n",
       "      <td>No</td>\n",
       "      <td>One year</td>\n",
       "      <td>No</td>\n",
       "      <td>Mailed check</td>\n",
       "      <td>56.95</td>\n",
       "      <td>1889.5</td>\n",
       "    </tr>\n",
       "    <tr>\n",
       "      <th>2</th>\n",
       "      <td>3668-QPYBK</td>\n",
       "      <td>2019-10-01</td>\n",
       "      <td>2019-12-01 00:00:00</td>\n",
       "      <td>Month-to-month</td>\n",
       "      <td>Yes</td>\n",
       "      <td>Mailed check</td>\n",
       "      <td>53.85</td>\n",
       "      <td>108.15</td>\n",
       "    </tr>\n",
       "    <tr>\n",
       "      <th>3</th>\n",
       "      <td>7795-CFOCW</td>\n",
       "      <td>2016-05-01</td>\n",
       "      <td>No</td>\n",
       "      <td>One year</td>\n",
       "      <td>No</td>\n",
       "      <td>Bank transfer (automatic)</td>\n",
       "      <td>42.30</td>\n",
       "      <td>1840.75</td>\n",
       "    </tr>\n",
       "    <tr>\n",
       "      <th>4</th>\n",
       "      <td>9237-HQITU</td>\n",
       "      <td>2019-09-01</td>\n",
       "      <td>2019-11-01 00:00:00</td>\n",
       "      <td>Month-to-month</td>\n",
       "      <td>Yes</td>\n",
       "      <td>Electronic check</td>\n",
       "      <td>70.70</td>\n",
       "      <td>151.65</td>\n",
       "    </tr>\n",
       "  </tbody>\n",
       "</table>\n",
       "</div>"
      ],
      "text/plain": [
       "   customerID   BeginDate              EndDate            Type  \\\n",
       "0  7590-VHVEG  2020-01-01                   No  Month-to-month   \n",
       "1  5575-GNVDE  2017-04-01                   No        One year   \n",
       "2  3668-QPYBK  2019-10-01  2019-12-01 00:00:00  Month-to-month   \n",
       "3  7795-CFOCW  2016-05-01                   No        One year   \n",
       "4  9237-HQITU  2019-09-01  2019-11-01 00:00:00  Month-to-month   \n",
       "\n",
       "  PaperlessBilling              PaymentMethod  MonthlyCharges TotalCharges  \n",
       "0              Yes           Electronic check           29.85        29.85  \n",
       "1               No               Mailed check           56.95       1889.5  \n",
       "2              Yes               Mailed check           53.85       108.15  \n",
       "3               No  Bank transfer (automatic)           42.30      1840.75  \n",
       "4              Yes           Electronic check           70.70       151.65  "
      ]
     },
     "execution_count": 5,
     "metadata": {},
     "output_type": "execute_result"
    }
   ],
   "source": [
    "contract_df.info()\n",
    "contract_df.head()"
   ]
  },
  {
   "cell_type": "code",
   "execution_count": 6,
   "metadata": {},
   "outputs": [
    {
     "name": "stdout",
     "output_type": "stream",
     "text": [
      "<class 'pandas.core.frame.DataFrame'>\n",
      "RangeIndex: 5517 entries, 0 to 5516\n",
      "Data columns (total 8 columns):\n",
      " #   Column            Non-Null Count  Dtype \n",
      "---  ------            --------------  ----- \n",
      " 0   customerID        5517 non-null   object\n",
      " 1   InternetService   5517 non-null   object\n",
      " 2   OnlineSecurity    5517 non-null   object\n",
      " 3   OnlineBackup      5517 non-null   object\n",
      " 4   DeviceProtection  5517 non-null   object\n",
      " 5   TechSupport       5517 non-null   object\n",
      " 6   StreamingTV       5517 non-null   object\n",
      " 7   StreamingMovies   5517 non-null   object\n",
      "dtypes: object(8)\n",
      "memory usage: 344.9+ KB\n"
     ]
    },
    {
     "data": {
      "text/html": [
       "<div>\n",
       "<style scoped>\n",
       "    .dataframe tbody tr th:only-of-type {\n",
       "        vertical-align: middle;\n",
       "    }\n",
       "\n",
       "    .dataframe tbody tr th {\n",
       "        vertical-align: top;\n",
       "    }\n",
       "\n",
       "    .dataframe thead th {\n",
       "        text-align: right;\n",
       "    }\n",
       "</style>\n",
       "<table border=\"1\" class=\"dataframe\">\n",
       "  <thead>\n",
       "    <tr style=\"text-align: right;\">\n",
       "      <th></th>\n",
       "      <th>customerID</th>\n",
       "      <th>InternetService</th>\n",
       "      <th>OnlineSecurity</th>\n",
       "      <th>OnlineBackup</th>\n",
       "      <th>DeviceProtection</th>\n",
       "      <th>TechSupport</th>\n",
       "      <th>StreamingTV</th>\n",
       "      <th>StreamingMovies</th>\n",
       "    </tr>\n",
       "  </thead>\n",
       "  <tbody>\n",
       "    <tr>\n",
       "      <th>0</th>\n",
       "      <td>7590-VHVEG</td>\n",
       "      <td>DSL</td>\n",
       "      <td>No</td>\n",
       "      <td>Yes</td>\n",
       "      <td>No</td>\n",
       "      <td>No</td>\n",
       "      <td>No</td>\n",
       "      <td>No</td>\n",
       "    </tr>\n",
       "    <tr>\n",
       "      <th>1</th>\n",
       "      <td>5575-GNVDE</td>\n",
       "      <td>DSL</td>\n",
       "      <td>Yes</td>\n",
       "      <td>No</td>\n",
       "      <td>Yes</td>\n",
       "      <td>No</td>\n",
       "      <td>No</td>\n",
       "      <td>No</td>\n",
       "    </tr>\n",
       "    <tr>\n",
       "      <th>2</th>\n",
       "      <td>3668-QPYBK</td>\n",
       "      <td>DSL</td>\n",
       "      <td>Yes</td>\n",
       "      <td>Yes</td>\n",
       "      <td>No</td>\n",
       "      <td>No</td>\n",
       "      <td>No</td>\n",
       "      <td>No</td>\n",
       "    </tr>\n",
       "    <tr>\n",
       "      <th>3</th>\n",
       "      <td>7795-CFOCW</td>\n",
       "      <td>DSL</td>\n",
       "      <td>Yes</td>\n",
       "      <td>No</td>\n",
       "      <td>Yes</td>\n",
       "      <td>Yes</td>\n",
       "      <td>No</td>\n",
       "      <td>No</td>\n",
       "    </tr>\n",
       "    <tr>\n",
       "      <th>4</th>\n",
       "      <td>9237-HQITU</td>\n",
       "      <td>Fiber optic</td>\n",
       "      <td>No</td>\n",
       "      <td>No</td>\n",
       "      <td>No</td>\n",
       "      <td>No</td>\n",
       "      <td>No</td>\n",
       "      <td>No</td>\n",
       "    </tr>\n",
       "  </tbody>\n",
       "</table>\n",
       "</div>"
      ],
      "text/plain": [
       "   customerID InternetService OnlineSecurity OnlineBackup DeviceProtection  \\\n",
       "0  7590-VHVEG             DSL             No          Yes               No   \n",
       "1  5575-GNVDE             DSL            Yes           No              Yes   \n",
       "2  3668-QPYBK             DSL            Yes          Yes               No   \n",
       "3  7795-CFOCW             DSL            Yes           No              Yes   \n",
       "4  9237-HQITU     Fiber optic             No           No               No   \n",
       "\n",
       "  TechSupport StreamingTV StreamingMovies  \n",
       "0          No          No              No  \n",
       "1          No          No              No  \n",
       "2          No          No              No  \n",
       "3         Yes          No              No  \n",
       "4          No          No              No  "
      ]
     },
     "execution_count": 6,
     "metadata": {},
     "output_type": "execute_result"
    }
   ],
   "source": [
    "internet_df.info()\n",
    "internet_df.head()"
   ]
  },
  {
   "cell_type": "code",
   "execution_count": 7,
   "metadata": {},
   "outputs": [
    {
     "name": "stdout",
     "output_type": "stream",
     "text": [
      "<class 'pandas.core.frame.DataFrame'>\n",
      "RangeIndex: 6361 entries, 0 to 6360\n",
      "Data columns (total 2 columns):\n",
      " #   Column         Non-Null Count  Dtype \n",
      "---  ------         --------------  ----- \n",
      " 0   customerID     6361 non-null   object\n",
      " 1   MultipleLines  6361 non-null   object\n",
      "dtypes: object(2)\n",
      "memory usage: 99.5+ KB\n"
     ]
    },
    {
     "data": {
      "text/html": [
       "<div>\n",
       "<style scoped>\n",
       "    .dataframe tbody tr th:only-of-type {\n",
       "        vertical-align: middle;\n",
       "    }\n",
       "\n",
       "    .dataframe tbody tr th {\n",
       "        vertical-align: top;\n",
       "    }\n",
       "\n",
       "    .dataframe thead th {\n",
       "        text-align: right;\n",
       "    }\n",
       "</style>\n",
       "<table border=\"1\" class=\"dataframe\">\n",
       "  <thead>\n",
       "    <tr style=\"text-align: right;\">\n",
       "      <th></th>\n",
       "      <th>customerID</th>\n",
       "      <th>MultipleLines</th>\n",
       "    </tr>\n",
       "  </thead>\n",
       "  <tbody>\n",
       "    <tr>\n",
       "      <th>0</th>\n",
       "      <td>5575-GNVDE</td>\n",
       "      <td>No</td>\n",
       "    </tr>\n",
       "    <tr>\n",
       "      <th>1</th>\n",
       "      <td>3668-QPYBK</td>\n",
       "      <td>No</td>\n",
       "    </tr>\n",
       "    <tr>\n",
       "      <th>2</th>\n",
       "      <td>9237-HQITU</td>\n",
       "      <td>No</td>\n",
       "    </tr>\n",
       "    <tr>\n",
       "      <th>3</th>\n",
       "      <td>9305-CDSKC</td>\n",
       "      <td>Yes</td>\n",
       "    </tr>\n",
       "    <tr>\n",
       "      <th>4</th>\n",
       "      <td>1452-KIOVK</td>\n",
       "      <td>Yes</td>\n",
       "    </tr>\n",
       "  </tbody>\n",
       "</table>\n",
       "</div>"
      ],
      "text/plain": [
       "   customerID MultipleLines\n",
       "0  5575-GNVDE            No\n",
       "1  3668-QPYBK            No\n",
       "2  9237-HQITU            No\n",
       "3  9305-CDSKC           Yes\n",
       "4  1452-KIOVK           Yes"
      ]
     },
     "execution_count": 7,
     "metadata": {},
     "output_type": "execute_result"
    }
   ],
   "source": [
    "phone_df.info()\n",
    "phone_df.head()"
   ]
  },
  {
   "cell_type": "code",
   "execution_count": 8,
   "metadata": {},
   "outputs": [
    {
     "name": "stdout",
     "output_type": "stream",
     "text": [
      "<class 'pandas.core.frame.DataFrame'>\n",
      "RangeIndex: 7043 entries, 0 to 7042\n",
      "Data columns (total 5 columns):\n",
      " #   Column         Non-Null Count  Dtype \n",
      "---  ------         --------------  ----- \n",
      " 0   customerID     7043 non-null   object\n",
      " 1   gender         7043 non-null   object\n",
      " 2   SeniorCitizen  7043 non-null   int64 \n",
      " 3   Partner        7043 non-null   object\n",
      " 4   Dependents     7043 non-null   object\n",
      "dtypes: int64(1), object(4)\n",
      "memory usage: 275.2+ KB\n"
     ]
    },
    {
     "data": {
      "text/html": [
       "<div>\n",
       "<style scoped>\n",
       "    .dataframe tbody tr th:only-of-type {\n",
       "        vertical-align: middle;\n",
       "    }\n",
       "\n",
       "    .dataframe tbody tr th {\n",
       "        vertical-align: top;\n",
       "    }\n",
       "\n",
       "    .dataframe thead th {\n",
       "        text-align: right;\n",
       "    }\n",
       "</style>\n",
       "<table border=\"1\" class=\"dataframe\">\n",
       "  <thead>\n",
       "    <tr style=\"text-align: right;\">\n",
       "      <th></th>\n",
       "      <th>customerID</th>\n",
       "      <th>gender</th>\n",
       "      <th>SeniorCitizen</th>\n",
       "      <th>Partner</th>\n",
       "      <th>Dependents</th>\n",
       "    </tr>\n",
       "  </thead>\n",
       "  <tbody>\n",
       "    <tr>\n",
       "      <th>0</th>\n",
       "      <td>7590-VHVEG</td>\n",
       "      <td>Female</td>\n",
       "      <td>0</td>\n",
       "      <td>Yes</td>\n",
       "      <td>No</td>\n",
       "    </tr>\n",
       "    <tr>\n",
       "      <th>1</th>\n",
       "      <td>5575-GNVDE</td>\n",
       "      <td>Male</td>\n",
       "      <td>0</td>\n",
       "      <td>No</td>\n",
       "      <td>No</td>\n",
       "    </tr>\n",
       "    <tr>\n",
       "      <th>2</th>\n",
       "      <td>3668-QPYBK</td>\n",
       "      <td>Male</td>\n",
       "      <td>0</td>\n",
       "      <td>No</td>\n",
       "      <td>No</td>\n",
       "    </tr>\n",
       "    <tr>\n",
       "      <th>3</th>\n",
       "      <td>7795-CFOCW</td>\n",
       "      <td>Male</td>\n",
       "      <td>0</td>\n",
       "      <td>No</td>\n",
       "      <td>No</td>\n",
       "    </tr>\n",
       "    <tr>\n",
       "      <th>4</th>\n",
       "      <td>9237-HQITU</td>\n",
       "      <td>Female</td>\n",
       "      <td>0</td>\n",
       "      <td>No</td>\n",
       "      <td>No</td>\n",
       "    </tr>\n",
       "  </tbody>\n",
       "</table>\n",
       "</div>"
      ],
      "text/plain": [
       "   customerID  gender  SeniorCitizen Partner Dependents\n",
       "0  7590-VHVEG  Female              0     Yes         No\n",
       "1  5575-GNVDE    Male              0      No         No\n",
       "2  3668-QPYBK    Male              0      No         No\n",
       "3  7795-CFOCW    Male              0      No         No\n",
       "4  9237-HQITU  Female              0      No         No"
      ]
     },
     "execution_count": 8,
     "metadata": {},
     "output_type": "execute_result"
    }
   ],
   "source": [
    "personal_df.info()\n",
    "personal_df.head()"
   ]
  },
  {
   "cell_type": "markdown",
   "metadata": {},
   "source": [
    "<div class=\"alert alert-info\">\n",
    "<h1>План по выполнению проекта:</h1>\n",
    "    \n",
    "* Подготовить данные.\n",
    "    * Объединить имеющиеся таблицы в единый датасет\n",
    "    * Обработать пропуски в данных\n",
    "    * Выделить фичи, которые будут использованы для работы модели, при необходимости создать новые (например: срок жизни клиента)\n",
    "    * разделить датасет на тренировочную/тестовую выборку\n",
    "* Исследовать баланс классов, при необходимости выполнить обработку данных, чтоб снизить дизбаланс.\n",
    "* Обучить несколько моделей учитывая дисбаланс классов. Провести кросс-валидацию и найти лучшую.\n",
    "* Проверить качество работы модели на тестовых данных. Описать выводы\n",
    "</div>"
   ]
  },
  {
   "cell_type": "markdown",
   "metadata": {},
   "source": [
    "### 1. Предобработка данных"
   ]
  },
  {
   "cell_type": "markdown",
   "metadata": {},
   "source": [
    "#### 1.1. Объединим имеющиеся таблицы в единый датасет"
   ]
  },
  {
   "cell_type": "markdown",
   "metadata": {},
   "source": [
    "Объединение выполним \"левым внешним\" соединением так как по некоторым пользователям отсутсвуют данные по использованию интернета и/или телефонии"
   ]
  },
  {
   "cell_type": "code",
   "execution_count": 9,
   "metadata": {},
   "outputs": [
    {
     "name": "stdout",
     "output_type": "stream",
     "text": [
      "<class 'pandas.core.frame.DataFrame'>\n",
      "Int64Index: 7043 entries, 0 to 7042\n",
      "Data columns (total 20 columns):\n",
      " #   Column            Non-Null Count  Dtype  \n",
      "---  ------            --------------  -----  \n",
      " 0   customerID        7043 non-null   object \n",
      " 1   BeginDate         7043 non-null   object \n",
      " 2   EndDate           7043 non-null   object \n",
      " 3   Type              7043 non-null   object \n",
      " 4   PaperlessBilling  7043 non-null   object \n",
      " 5   PaymentMethod     7043 non-null   object \n",
      " 6   MonthlyCharges    7043 non-null   float64\n",
      " 7   TotalCharges      7043 non-null   object \n",
      " 8   InternetService   5517 non-null   object \n",
      " 9   OnlineSecurity    5517 non-null   object \n",
      " 10  OnlineBackup      5517 non-null   object \n",
      " 11  DeviceProtection  5517 non-null   object \n",
      " 12  TechSupport       5517 non-null   object \n",
      " 13  StreamingTV       5517 non-null   object \n",
      " 14  StreamingMovies   5517 non-null   object \n",
      " 15  MultipleLines     6361 non-null   object \n",
      " 16  gender            7043 non-null   object \n",
      " 17  SeniorCitizen     7043 non-null   int64  \n",
      " 18  Partner           7043 non-null   object \n",
      " 19  Dependents        7043 non-null   object \n",
      "dtypes: float64(1), int64(1), object(18)\n",
      "memory usage: 1.1+ MB\n"
     ]
    }
   ],
   "source": [
    "df = contract_df.merge(internet_df, how='left', on='customerID').merge(\n",
    "    phone_df, how='left', on='customerID').merge(personal_df, how='left', on='customerID')\n",
    "df.info()"
   ]
  },
  {
   "cell_type": "markdown",
   "metadata": {},
   "source": [
    "#### 1.2. Обработка пропусков\n",
    "Как мы и ожидали, в полученной итоговой таблице имеются пропуски в данных по использованию интернета и/или телефонии. \n",
    "\n",
    "Отсутсвие данных в датасете означает, что клиент не пользовался данной услугой. Все столбцы с пропусками, кроме \"InternetService\" содержат булевое значение Yes/No. Поэтому пропуски заполним следующим образом: \n",
    "- колонку \"InternetService\" заполним значением \"missing_info\" \n",
    "- Все остальные пропуски Заполним значением \"No\" "
   ]
  },
  {
   "cell_type": "code",
   "execution_count": 10,
   "metadata": {},
   "outputs": [
    {
     "name": "stdout",
     "output_type": "stream",
     "text": [
      "<class 'pandas.core.frame.DataFrame'>\n",
      "Int64Index: 7043 entries, 0 to 7042\n",
      "Data columns (total 20 columns):\n",
      " #   Column            Non-Null Count  Dtype  \n",
      "---  ------            --------------  -----  \n",
      " 0   customerID        7043 non-null   object \n",
      " 1   BeginDate         7043 non-null   object \n",
      " 2   EndDate           7043 non-null   object \n",
      " 3   Type              7043 non-null   object \n",
      " 4   PaperlessBilling  7043 non-null   object \n",
      " 5   PaymentMethod     7043 non-null   object \n",
      " 6   MonthlyCharges    7043 non-null   float64\n",
      " 7   TotalCharges      7043 non-null   object \n",
      " 8   InternetService   7043 non-null   object \n",
      " 9   OnlineSecurity    7043 non-null   object \n",
      " 10  OnlineBackup      7043 non-null   object \n",
      " 11  DeviceProtection  7043 non-null   object \n",
      " 12  TechSupport       7043 non-null   object \n",
      " 13  StreamingTV       7043 non-null   object \n",
      " 14  StreamingMovies   7043 non-null   object \n",
      " 15  MultipleLines     7043 non-null   object \n",
      " 16  gender            7043 non-null   object \n",
      " 17  SeniorCitizen     7043 non-null   int64  \n",
      " 18  Partner           7043 non-null   object \n",
      " 19  Dependents        7043 non-null   object \n",
      "dtypes: float64(1), int64(1), object(18)\n",
      "memory usage: 1.1+ MB\n"
     ]
    }
   ],
   "source": [
    "df['InternetService'].fillna('missing_info', inplace=True)\n",
    "df.fillna('No', inplace=True)\n",
    "df.info()"
   ]
  },
  {
   "cell_type": "markdown",
   "metadata": {},
   "source": [
    "#### 1.3. Приведение типов данных\n",
    "\n",
    "Для дальнейшего обучения модели, все категориальные значения нужно привести к численному виду. \n",
    "Будем использовать два подхода \n",
    "- Label Encoding: для преобразования булевых значений к виду 0/1\n",
    "- One Hot Encoding: для генерации признаков соответствующих уникальным значениям соответствующих столбцов"
   ]
  },
  {
   "cell_type": "code",
   "execution_count": 11,
   "metadata": {},
   "outputs": [],
   "source": [
    "def encode_column(data_frame, column):\n",
    "    #убедимся что уникальных значений в столбце 2, а значит они могут быть приведены к виду 0 / 1  \n",
    "    if len(data_frame[column].unique()) != 2:\n",
    "        print(f'Значения колонки {column} не могут быть преобразованы методом Label Encoder, т.к. уникальных значений больше 2')\n",
    "        return data_frame[column]\n",
    "    else:\n",
    "        label_encoder = preprocessing.LabelEncoder()\n",
    "        print(f'Значения столбца {column} преобразованы')  \n",
    "        return label_encoder.fit_transform(data_frame[column])"
   ]
  },
  {
   "cell_type": "code",
   "execution_count": 12,
   "metadata": {},
   "outputs": [
    {
     "name": "stdout",
     "output_type": "stream",
     "text": [
      "Значения столбца OnlineSecurity преобразованы\n",
      "Значения столбца OnlineBackup преобразованы\n",
      "Значения столбца DeviceProtection преобразованы\n",
      "Значения столбца TechSupport преобразованы\n",
      "Значения столбца StreamingTV преобразованы\n",
      "Значения столбца StreamingMovies преобразованы\n",
      "Значения столбца MultipleLines преобразованы\n",
      "Значения столбца Partner преобразованы\n",
      "Значения столбца Dependents преобразованы\n",
      "Значения столбца PaperlessBilling преобразованы\n",
      "Значения столбца gender преобразованы\n"
     ]
    }
   ],
   "source": [
    "# созданим список всех столбцов, значения которых мы хотим преобразовать методом Label Encoding\n",
    "LE_to_encode = ['OnlineSecurity', 'OnlineBackup', 'DeviceProtection', 'TechSupport', 'StreamingTV', 'StreamingMovies',\n",
    "                     'MultipleLines', 'Partner', 'Dependents', 'PaperlessBilling', 'gender']\n",
    "for column in LE_to_encode:\n",
    "    df[column] = encode_column(df, column)"
   ]
  },
  {
   "cell_type": "code",
   "execution_count": 13,
   "metadata": {},
   "outputs": [],
   "source": [
    "# созданим список всех столбцов, значения которых мы хотим преобразовать методом One Hot Encoding\n",
    "OHE_to_encode =['Type', 'PaymentMethod', 'InternetService']\n",
    "\n",
    "#создадим дамми-столбцы для соответствующих признаков \n",
    "for column in OHE_to_encode:\n",
    "    dummy_df = pd.get_dummies(df[column], drop_first=True)\n",
    "    dummy_df.columns = column+'_'+dummy_df.columns.str.replace(' ', '_')\n",
    "    # полученные столбцы присоединим к имеющемуся набору данных\n",
    "    df = pd.concat([df, dummy_df], axis=1)\n",
    "    \n",
    "# удалим лишние столбцы из полученного набора данных\n",
    "df.drop(OHE_to_encode, axis=1, inplace=True)"
   ]
  },
  {
   "cell_type": "code",
   "execution_count": 14,
   "metadata": {},
   "outputs": [],
   "source": [
    "df['TotalCharges'] = df['TotalCharges'].apply(lambda x: np.nan if x == ' ' else x)\n",
    "df['TotalCharges'].dropna(inplace=True)\n",
    "df['TotalCharges'] = pd.to_numeric(df['TotalCharges'], downcast=\"float\")"
   ]
  },
  {
   "cell_type": "markdown",
   "metadata": {},
   "source": [
    "#### 1.4. Создание целевого признака"
   ]
  },
  {
   "cell_type": "code",
   "execution_count": 15,
   "metadata": {},
   "outputs": [],
   "source": [
    "#для всех записей с проставленной датой окончания контракта установим значение целевого признака равным 1, для остальных 0\n",
    "df['leaving'] = df['EndDate'].apply(lambda x: 0 if x == 'No' else 1)"
   ]
  },
  {
   "cell_type": "markdown",
   "metadata": {},
   "source": [
    "#### 1.5. Создание дополнительных признаков\n",
    "\n",
    "Добавим дополнительный признак \"Срок жизни\" клиента, для дальнейшего использования при обучении модели.\n",
    "Так как целевой признак уже создан, для всех активных записей срок окончания проставим равным дате выгрузки данных: 1 Февраля 2020 года\n",
    "\n",
    "После чего посчитаем разницу в днях между началом использования услуг и окончанием\n"
   ]
  },
  {
   "cell_type": "code",
   "execution_count": 16,
   "metadata": {},
   "outputs": [],
   "source": [
    "df['EndDate'] = df['EndDate'].apply(lambda x: '2020-02-01' if x == 'No' else x)\n",
    "df['LifeSpan'] = (pd.to_datetime(df['EndDate']) - pd.to_datetime(df['BeginDate'])) / np.timedelta64(1, 'D')"
   ]
  },
  {
   "cell_type": "markdown",
   "metadata": {},
   "source": [
    "#### 1.6. Разделим датасет на признаки и  таргет"
   ]
  },
  {
   "cell_type": "code",
   "execution_count": 17,
   "metadata": {},
   "outputs": [],
   "source": [
    "target = df['leaving']\n",
    "features = df.drop(['leaving'], axis=1)"
   ]
  },
  {
   "cell_type": "markdown",
   "metadata": {},
   "source": [
    "#### 1.7. Удалим признаки, которые не будут использоваться для обучения модели"
   ]
  },
  {
   "cell_type": "code",
   "execution_count": 18,
   "metadata": {},
   "outputs": [],
   "source": [
    "features.drop(['customerID', 'BeginDate', 'EndDate'], axis=1, inplace=True)"
   ]
  },
  {
   "cell_type": "markdown",
   "metadata": {},
   "source": [
    "Проверим нет ли в полученном датасете линейной зависимых признаков, которые будут отрицательно влиять на работу модель. Посмотрим матрицу корреляции пирсона. При необходимости удалим лийнено зависимые признаки"
   ]
  },
  {
   "cell_type": "code",
   "execution_count": 19,
   "metadata": {},
   "outputs": [
    {
     "data": {
      "text/plain": [
       "Text(0.5, 1.0, 'Корреляция признаков')"
      ]
     },
     "execution_count": 19,
     "metadata": {},
     "output_type": "execute_result"
    },
    {
     "data": {
      "image/png": "[encoded data removed]",
      "text/plain": [
       "<Figure size 1152x432 with 2 Axes>"
      ]
     },
     "metadata": {
      "needs_background": "light"
     },
     "output_type": "display_data"
    }
   ],
   "source": [
    "numeric_columns=['MonthlyCharges', 'TotalCharges', 'LifeSpan']\n",
    "plt.figure(figsize=(16, 6))\n",
    "heatmap = sns.heatmap(features[numeric_columns].corr(), vmin=-1, vmax=1, annot=True)\n",
    "heatmap.set_title('Корреляция признаков', fontdict={'fontsize':12}, pad=12)"
   ]
  },
  {
   "cell_type": "markdown",
   "metadata": {},
   "source": [
    "По полученной тепловой карте видим что сильная линейная завимисоть между признаками \"Срок жизни\" и \"Итоговые затраты\", что весьма предсказуемо: чем больше клиент пользуется услугами компании - тем больше итоговые затраты. Для обучения модели будем использовать только \"Срок жизни\""
   ]
  },
  {
   "cell_type": "code",
   "execution_count": 20,
   "metadata": {},
   "outputs": [],
   "source": [
    "features.drop('TotalCharges', axis=1, inplace=True)"
   ]
  },
  {
   "cell_type": "markdown",
   "metadata": {},
   "source": [
    "#### 1.8. Разделим выборки на обучающию и тестовую"
   ]
  },
  {
   "cell_type": "code",
   "execution_count": 21,
   "metadata": {},
   "outputs": [],
   "source": [
    "features_train, features_test, target_train, target_test = train_test_split(features, target, test_size=0.2, \n",
    "                                                                            random_state=12345)"
   ]
  },
  {
   "cell_type": "markdown",
   "metadata": {},
   "source": [
    "### 2. Борьба с дисбалансом "
   ]
  },
  {
   "cell_type": "code",
   "execution_count": 22,
   "metadata": {},
   "outputs": [
    {
     "data": {
      "text/plain": [
       "0    5174\n",
       "1    1869\n",
       "Name: leaving, dtype: int64"
      ]
     },
     "execution_count": 22,
     "metadata": {},
     "output_type": "execute_result"
    }
   ],
   "source": [
    "target.value_counts()"
   ]
  },
  {
   "cell_type": "markdown",
   "metadata": {},
   "source": [
    "В распределении целевого признака явно заметен дисбаланс, что отрицательно скажется на работе модели. Выполним обработку датасета, чтоб снизить дисбаланс целевого признака"
   ]
  },
  {
   "cell_type": "markdown",
   "metadata": {},
   "source": [
    "#### 2.1. Уменьшение выборки \n",
    "\n",
    "Уменьшим количество записей обучающей выборки с значением целевого признака равным 0"
   ]
  },
  {
   "cell_type": "code",
   "execution_count": 23,
   "metadata": {},
   "outputs": [],
   "source": [
    "def downsample(features, target, fraction):\n",
    "    features_zeros = features[target == 0]\n",
    "    features_ones = features[target == 1]\n",
    "    target_zeros = target[target == 0]\n",
    "    target_ones = target[target == 1]\n",
    "    \n",
    "    features_downsampled = pd.concat(\n",
    "    [features_zeros.sample(frac=fraction, random_state=12345)] + [features_ones])\n",
    "    \n",
    "    target_downsampled = pd.concat(\n",
    "    [target_zeros.sample(frac=fraction, random_state=12345)] + [target_ones])\n",
    "    \n",
    "    features_downsampled, target_downsampled = shuffle(\n",
    "    features_downsampled, target_downsampled, random_state=12345)\n",
    "    return features_downsampled, target_downsampled"
   ]
  },
  {
   "cell_type": "code",
   "execution_count": 24,
   "metadata": {},
   "outputs": [],
   "source": [
    "features_train_down, target_train_down = downsample(features_train, target_train, 0.75)"
   ]
  },
  {
   "cell_type": "markdown",
   "metadata": {},
   "source": [
    "#### 2.2. Увеличение выборки \n",
    "\n",
    "Увеличим количество записей обучающей выборки с значением целевого признака равным 1"
   ]
  },
  {
   "cell_type": "code",
   "execution_count": 25,
   "metadata": {},
   "outputs": [],
   "source": [
    "def upsample(features, target, repeat):\n",
    "    features_zeros = features[target == 0]\n",
    "    features_ones = features[target == 1]\n",
    "    target_zeros = target[target == 0]\n",
    "    target_ones = target[target == 1]\n",
    "\n",
    "    features_upsampled = pd.concat([features_zeros] + [features_ones] * repeat)\n",
    "    target_upsampled = pd.concat([target_zeros] + [target_ones] * repeat)\n",
    "    \n",
    "    features_upsampled, target_upsampled = shuffle(\n",
    "        features_upsampled, target_upsampled, random_state=12345)\n",
    "    \n",
    "    return features_upsampled, target_upsampled"
   ]
  },
  {
   "cell_type": "code",
   "execution_count": 26,
   "metadata": {},
   "outputs": [],
   "source": [
    "features_train_final, target_train_final = upsample(features_train_down, target_train_down, 2)"
   ]
  },
  {
   "cell_type": "code",
   "execution_count": 27,
   "metadata": {
    "scrolled": true
   },
   "outputs": [
    {
     "data": {
      "text/plain": [
       "0    4144\n",
       "1    1490\n",
       "Name: leaving, dtype: int64"
      ]
     },
     "execution_count": 27,
     "metadata": {},
     "output_type": "execute_result"
    }
   ],
   "source": [
    "#исходное\n",
    "target_train.value_counts()"
   ]
  },
  {
   "cell_type": "code",
   "execution_count": 28,
   "metadata": {
    "scrolled": true
   },
   "outputs": [
    {
     "data": {
      "text/plain": [
       "0    3108\n",
       "1    1490\n",
       "Name: leaving, dtype: int64"
      ]
     },
     "execution_count": 28,
     "metadata": {},
     "output_type": "execute_result"
    }
   ],
   "source": [
    "#после даунсемплинга нулей, коилчество единиц без изменений\n",
    "target_train_down.value_counts()"
   ]
  },
  {
   "cell_type": "markdown",
   "metadata": {},
   "source": [
    "Проверим итоговое распределение целевого признака после обработки."
   ]
  },
  {
   "cell_type": "code",
   "execution_count": 29,
   "metadata": {
    "scrolled": true
   },
   "outputs": [
    {
     "data": {
      "text/plain": [
       "0    3108\n",
       "1    2980\n",
       "Name: leaving, dtype: int64"
      ]
     },
     "execution_count": 29,
     "metadata": {},
     "output_type": "execute_result"
    }
   ],
   "source": [
    "target_train_final.value_counts()"
   ]
  },
  {
   "cell_type": "markdown",
   "metadata": {},
   "source": [
    "#### Вывод: дисбаланс побежден! можно приступить к обучению моделей"
   ]
  },
  {
   "cell_type": "markdown",
   "metadata": {},
   "source": [
    "### 3. Обучение моделей и подбор гимерпараметров "
   ]
  },
  {
   "cell_type": "markdown",
   "metadata": {},
   "source": [
    "Использовать будем несколько вариантов моделей бустинга:\n",
    "- Light GBM\n",
    "- Catboost"
   ]
  },
  {
   "cell_type": "markdown",
   "metadata": {},
   "source": [
    "#### 3.1. Light GBM"
   ]
  },
  {
   "cell_type": "code",
   "execution_count": 30,
   "metadata": {},
   "outputs": [
    {
     "name": "stdout",
     "output_type": "stream",
     "text": [
      "Wall time: 29.8 s\n"
     ]
    }
   ],
   "source": [
    "%%time\n",
    "#будем использовать деревья максимальной глубины 3, чтобы исбежать переобучения\n",
    "depth = 3\n",
    "roc_auc = []\n",
    "estimators = []\n",
    "learn_rate=[]\n",
    "\n",
    "for estimator in range(100,300,10):\n",
    "    for lr in np.logspace(-1.0, 0.0, num=5):\n",
    "        model = LGBMClassifier(random_state=12345, n_estimators=estimator, max_depth=depth, learning_rate=lr)\n",
    "        roc_auc_mean = pd.Series(cross_val_score(model, features_train_final, target_train_final, cv=5, \n",
    "                                             scoring='roc_auc')).mean() \n",
    "        roc_auc.append(roc_auc_mean)\n",
    "        estimators.append(estimator)\n",
    "        learn_rate.append(lr)\n",
    "d = {'learning_rate': learn_rate, 'estimators': estimators,'roc_auc': roc_auc}\n",
    "grad_boosting = pd.DataFrame(data=d) "
   ]
  },
  {
   "cell_type": "code",
   "execution_count": 31,
   "metadata": {},
   "outputs": [
    {
     "data": {
      "text/html": [
       "<div>\n",
       "<style scoped>\n",
       "    .dataframe tbody tr th:only-of-type {\n",
       "        vertical-align: middle;\n",
       "    }\n",
       "\n",
       "    .dataframe tbody tr th {\n",
       "        vertical-align: top;\n",
       "    }\n",
       "\n",
       "    .dataframe thead th {\n",
       "        text-align: right;\n",
       "    }\n",
       "</style>\n",
       "<table border=\"1\" class=\"dataframe\">\n",
       "  <thead>\n",
       "    <tr style=\"text-align: right;\">\n",
       "      <th></th>\n",
       "      <th>learning_rate</th>\n",
       "      <th>estimators</th>\n",
       "      <th>roc_auc</th>\n",
       "    </tr>\n",
       "  </thead>\n",
       "  <tbody>\n",
       "    <tr>\n",
       "      <th>98</th>\n",
       "      <td>0.562341</td>\n",
       "      <td>290</td>\n",
       "      <td>0.954583</td>\n",
       "    </tr>\n",
       "    <tr>\n",
       "      <th>99</th>\n",
       "      <td>1.000000</td>\n",
       "      <td>290</td>\n",
       "      <td>0.954398</td>\n",
       "    </tr>\n",
       "    <tr>\n",
       "      <th>93</th>\n",
       "      <td>0.562341</td>\n",
       "      <td>280</td>\n",
       "      <td>0.954296</td>\n",
       "    </tr>\n",
       "    <tr>\n",
       "      <th>89</th>\n",
       "      <td>1.000000</td>\n",
       "      <td>270</td>\n",
       "      <td>0.954155</td>\n",
       "    </tr>\n",
       "    <tr>\n",
       "      <th>88</th>\n",
       "      <td>0.562341</td>\n",
       "      <td>270</td>\n",
       "      <td>0.953998</td>\n",
       "    </tr>\n",
       "  </tbody>\n",
       "</table>\n",
       "</div>"
      ],
      "text/plain": [
       "    learning_rate  estimators   roc_auc\n",
       "98       0.562341         290  0.954583\n",
       "99       1.000000         290  0.954398\n",
       "93       0.562341         280  0.954296\n",
       "89       1.000000         270  0.954155\n",
       "88       0.562341         270  0.953998"
      ]
     },
     "execution_count": 31,
     "metadata": {},
     "output_type": "execute_result"
    }
   ],
   "source": [
    "grad_boosting.sort_values(by='roc_auc', ascending=False).head()"
   ]
  },
  {
   "cell_type": "markdown",
   "metadata": {},
   "source": [
    "#### Вывод:\n",
    "На тренировочном датасете достигли значения метрики roc_auc равного 0.954 при следующих значениях гиперпараметров:\n",
    "- learning rate: 0.562341\n",
    "- estimators: 290"
   ]
  },
  {
   "cell_type": "markdown",
   "metadata": {},
   "source": [
    "#### 3.2. Catboost"
   ]
  },
  {
   "cell_type": "code",
   "execution_count": 32,
   "metadata": {},
   "outputs": [
    {
     "name": "stdout",
     "output_type": "stream",
     "text": [
      "Wall time: 2min 26s\n"
     ]
    }
   ],
   "source": [
    "%%time\n",
    "depth = 3\n",
    "roc_auc = []\n",
    "estimators = []\n",
    "learn_rate=[]\n",
    "\n",
    "for estimator in range(100,300,20):\n",
    "    for lr in np.logspace(-1.0, 0.0, num=5):\n",
    "        model = CatBoostClassifier(random_seed=12345, n_estimators=estimator, learning_rate=lr, logging_level='Silent')\n",
    "        roc_auc_mean = pd.Series(cross_val_score(model, features_train_final, target_train_final, cv=5, \n",
    "                                             scoring='roc_auc')).mean() \n",
    "        roc_auc.append(roc_auc_mean)\n",
    "        estimators.append(estimator)\n",
    "        learn_rate.append(lr)\n",
    "d = {'learning_rate': learn_rate, 'estimators': estimators,'roc_auc': roc_auc}\n",
    "grad_boosting = pd.DataFrame(data=d) "
   ]
  },
  {
   "cell_type": "code",
   "execution_count": 33,
   "metadata": {},
   "outputs": [
    {
     "data": {
      "text/html": [
       "<div>\n",
       "<style scoped>\n",
       "    .dataframe tbody tr th:only-of-type {\n",
       "        vertical-align: middle;\n",
       "    }\n",
       "\n",
       "    .dataframe tbody tr th {\n",
       "        vertical-align: top;\n",
       "    }\n",
       "\n",
       "    .dataframe thead th {\n",
       "        text-align: right;\n",
       "    }\n",
       "</style>\n",
       "<table border=\"1\" class=\"dataframe\">\n",
       "  <thead>\n",
       "    <tr style=\"text-align: right;\">\n",
       "      <th></th>\n",
       "      <th>learning_rate</th>\n",
       "      <th>estimators</th>\n",
       "      <th>roc_auc</th>\n",
       "    </tr>\n",
       "  </thead>\n",
       "  <tbody>\n",
       "    <tr>\n",
       "      <th>47</th>\n",
       "      <td>0.316228</td>\n",
       "      <td>280</td>\n",
       "      <td>0.962348</td>\n",
       "    </tr>\n",
       "    <tr>\n",
       "      <th>42</th>\n",
       "      <td>0.316228</td>\n",
       "      <td>260</td>\n",
       "      <td>0.961319</td>\n",
       "    </tr>\n",
       "    <tr>\n",
       "      <th>48</th>\n",
       "      <td>0.562341</td>\n",
       "      <td>280</td>\n",
       "      <td>0.960901</td>\n",
       "    </tr>\n",
       "    <tr>\n",
       "      <th>43</th>\n",
       "      <td>0.562341</td>\n",
       "      <td>260</td>\n",
       "      <td>0.960407</td>\n",
       "    </tr>\n",
       "    <tr>\n",
       "      <th>37</th>\n",
       "      <td>0.316228</td>\n",
       "      <td>240</td>\n",
       "      <td>0.959757</td>\n",
       "    </tr>\n",
       "  </tbody>\n",
       "</table>\n",
       "</div>"
      ],
      "text/plain": [
       "    learning_rate  estimators   roc_auc\n",
       "47       0.316228         280  0.962348\n",
       "42       0.316228         260  0.961319\n",
       "48       0.562341         280  0.960901\n",
       "43       0.562341         260  0.960407\n",
       "37       0.316228         240  0.959757"
      ]
     },
     "execution_count": 33,
     "metadata": {},
     "output_type": "execute_result"
    }
   ],
   "source": [
    "grad_boosting.sort_values(by='roc_auc', ascending=False).head()"
   ]
  },
  {
   "cell_type": "markdown",
   "metadata": {},
   "source": [
    "#### Вывод:\n",
    "На тренировочном датасете используя модель Catboost достигли значения метрики roc_auc равного 0.962 при следующих значениях гиперпараметров:\n",
    "- learning rate: 0.316228\n",
    "- estimators: 280"
   ]
  },
  {
   "cell_type": "markdown",
   "metadata": {},
   "source": [
    "### 4. Тестирование моделей"
   ]
  },
  {
   "cell_type": "markdown",
   "metadata": {},
   "source": [
    "#### 4.1.  Light GBM"
   ]
  },
  {
   "cell_type": "code",
   "execution_count": 63,
   "metadata": {},
   "outputs": [
    {
     "name": "stdout",
     "output_type": "stream",
     "text": [
      "ROC-AUC на тесте: 0.8530829725644901\n",
      "Accuracy на тесте: 0.8644428672817601\n",
      "Wall time: 98.7 ms\n"
     ]
    }
   ],
   "source": [
    "%%time\n",
    "model = LGBMClassifier(random_state=12345, n_estimators=290, max_depth=3, learning_rate=0.562341)\n",
    "model.fit(features_train_final, target_train_final)\n",
    "predict_test = model.predict(features_test)\n",
    "\n",
    "print(f'ROC-AUC на тесте: {roc_auc_score(target_test, predict_test)}')\n",
    "print(f'Accuracy на тесте: {accuracy_score(target_test, predict_test)}')"
   ]
  },
  {
   "cell_type": "markdown",
   "metadata": {},
   "source": [
    "#### 4.1.1. Представление результатов заказчику\n",
    "Для более предметного разговора с заказчиком, так же предоставим данные матрицы ошибок, на основе которых можно посчитать возможные убытки и прибыль от работы нашей модели, и предоставим график важности факторов для обучения модели. "
   ]
  },
  {
   "cell_type": "code",
   "execution_count": 64,
   "metadata": {},
   "outputs": [],
   "source": [
    "def draw_confusion_matrix(conf_matrix):\n",
    "    fig, ax = plt.subplots(figsize=(7.5, 7.5))\n",
    "    ax.matshow(conf_matrix, cmap=plt.cm.Blues, alpha=0.3)\n",
    "    for i in range(conf_matrix.shape[0]):\n",
    "        for j in range(conf_matrix.shape[1]):\n",
    "            ax.text(x=j, y=i,s=conf_matrix[i, j], va='center', ha='center', size='x-large') \n",
    "    plt.xlabel('Предсказания', fontsize=18)\n",
    "    plt.ylabel('Реальные значения', fontsize=18)\n",
    "    plt.title('Матрица ошибок', fontsize=18)\n",
    "    plt.show()\n",
    "    \n",
    "def draw_features_imp(importances, features):\n",
    "    indices = np.argsort(importances)\n",
    "    plt.figure(figsize=(12,10))\n",
    "    plt.title(\"Важность факторов\")\n",
    "    plt.barh(features[indices], importances[indices])\n",
    "    plt.show()"
   ]
  },
  {
   "cell_type": "code",
   "execution_count": 65,
   "metadata": {},
   "outputs": [
    {
     "data": {
      "image/png": "[encoded data removed]",
      "text/plain": [
       "<Figure size 540x540 with 1 Axes>"
      ]
     },
     "metadata": {
      "needs_background": "light"
     },
     "output_type": "display_data"
    }
   ],
   "source": [
    "draw_confusion_matrix(confusion_matrix(target_test, predict_test))"
   ]
  },
  {
   "cell_type": "code",
   "execution_count": 66,
   "metadata": {},
   "outputs": [
    {
     "data": {
      "image/png": "[encoded data removed]",
      "text/plain": [
       "<Figure size 864x720 with 1 Axes>"
      ]
     },
     "metadata": {
      "needs_background": "light"
     },
     "output_type": "display_data"
    }
   ],
   "source": [
    "draw_features_imp(model.feature_importances_, features_train.columns)"
   ]
  },
  {
   "cell_type": "markdown",
   "metadata": {},
   "source": [
    "#### 4.2. Catboost"
   ]
  },
  {
   "cell_type": "code",
   "execution_count": 67,
   "metadata": {},
   "outputs": [
    {
     "name": "stdout",
     "output_type": "stream",
     "text": [
      "ROC-AUC на тесте: 0.823105002945923\n",
      "Accuracy на тесте: 0.886444286728176\n"
     ]
    }
   ],
   "source": [
    "model = CatBoostClassifier(random_seed=12345, n_estimators=280, max_depth=3, learning_rate=0.316228, logging_level='Silent')\n",
    "model.fit(features_train, target_train)\n",
    "predict_test = model.predict(features_test)\n",
    "\n",
    "print(f'ROC-AUC на тесте: {roc_auc_score(target_test, predict_test)}')\n",
    "print(f'Accuracy на тесте: {accuracy_score(target_test, predict_test)}')"
   ]
  },
  {
   "cell_type": "markdown",
   "metadata": {},
   "source": [
    "#### 4.2.1. Представление результатов заказчику\n",
    "Для более предметного разговора с заказчиком, так же предоставим данные матрицы ошибок, на основе которых можно посчитать возможные убытки и прибыль от работы нашей модели, и предоставим график важности факторов для обучения модели. "
   ]
  },
  {
   "cell_type": "code",
   "execution_count": 68,
   "metadata": {},
   "outputs": [
    {
     "data": {
      "image/png": "[encoded data removed]",
      "text/plain": [
       "<Figure size 540x540 with 1 Axes>"
      ]
     },
     "metadata": {
      "needs_background": "light"
     },
     "output_type": "display_data"
    }
   ],
   "source": [
    "draw_confusion_matrix(confusion_matrix(target_test, predict_test))"
   ]
  },
  {
   "cell_type": "code",
   "execution_count": 69,
   "metadata": {},
   "outputs": [
    {
     "data": {
      "image/png": "[encoded data removed]",
      "text/plain": [
       "<Figure size 864x720 with 1 Axes>"
      ]
     },
     "metadata": {
      "needs_background": "light"
     },
     "output_type": "display_data"
    }
   ],
   "source": [
    "draw_features_imp(model.feature_importances_, features_train.columns)"
   ]
  },
  {
   "cell_type": "markdown",
   "metadata": {},
   "source": [
    "#### 4.3. Dummy-модель"
   ]
  },
  {
   "cell_type": "markdown",
   "metadata": {},
   "source": [
    "Для проверки адекватности результатов сравним результаты работы моделей с дамми-моделью. В нашем случае в качестве дамми-модели будем использовать проставление наиболее частого значения целевого признака."
   ]
  },
  {
   "cell_type": "code",
   "execution_count": 70,
   "metadata": {},
   "outputs": [
    {
     "data": {
      "text/plain": [
       "0    1030\n",
       "1     379\n",
       "Name: leaving, dtype: int64"
      ]
     },
     "execution_count": 70,
     "metadata": {},
     "output_type": "execute_result"
    }
   ],
   "source": [
    "target_test.value_counts()"
   ]
  },
  {
   "cell_type": "markdown",
   "metadata": {},
   "source": [
    "Наиболее частое значение целевого признака 0, поэтому будет проставлять нули"
   ]
  },
  {
   "cell_type": "code",
   "execution_count": 71,
   "metadata": {},
   "outputs": [
    {
     "name": "stdout",
     "output_type": "stream",
     "text": [
      "ROC-AUC на тесте: 0.5\n",
      "Accuracy на тесте: 0.7310149041873669\n"
     ]
    }
   ],
   "source": [
    "predict_dummy = [0]*target_test.shape[0]\n",
    "print(f'ROC-AUC на тесте: {roc_auc_score(target_test, predict_dummy)}')\n",
    "print(f'Accuracy на тесте: {accuracy_score(target_test, predict_dummy)}')"
   ]
  },
  {
   "cell_type": "markdown",
   "metadata": {},
   "source": [
    "### Вывод: протестировав модели на тестовом датасете, лучшие результаты показала модель Light GBM. Показав значение целевой метрики ROC-AUC равное 0.853. Сравнив работу нашей модели с результатом работы дамми-модели можем утверждать об адекватности полученных результатов."
   ]
  },
  {
   "cell_type": "markdown",
   "metadata": {},
   "source": [
    "<div class=\"alert alert-info\">\n",
    "<h1>Отчет по проекту:</h1>\n",
    "В ходе выполнения проекта были выполнены следующие пункты<br>\n",
    "    1. Подготовка данных.<br>\n",
    "    1.1. Объединение имеющихся таблиц в единый датасет - <b>ВЫПОЛНЕНО</b><br>\n",
    "    1.2. Обработать пропуски в данных - <b>ВЫПОЛНЕНО</b><br>\n",
    "    1.3. Выделить фичи, которые будут использованы для работы модели, при необходимости создать новые (например: срок жизни клиента) - <b>ВЫПОЛНЕНО</b><br>\n",
    "    1.4. разделить датасет на тренировочную/тестовую выборку - <b>ВЫПОЛНЕНО</b><br>\n",
    "<b>Так же дополнительно была проведена проверка на мультиколлинеарность признаков, что помогло избавиться от одного из линейно зависимых признаков. </b>  <br>\n",
    "    \n",
    "2. Исследовать баланс классов, при необходимости выполнить обработку данных, чтоб снизить дизбаланс. - <b>ВЫПОЛНЕНО</b>\n",
    "3. Обучить несколько моделей учитывая дисбаланс классов. Провести кросс-валидацию и найти лучшую. - <b>ВЫПОЛНЕНО</b>\n",
    "4. Проверить качество работы модели на тестовых данных. Описать выводы - <b>ВЫПОЛНЕНО</b>\n",
    "\n",
    "В качестве моделей использовались разные варианта градиентного бустинга - light GBM и Catboost. Наилучшее качество продемонстировала модель light GBM, достигнув значения целевой метрики ROC-AUC 0.853. \n",
    "Для более предметного разговора с заказчиком, так же предосталенны данные матрицы ошибок, на основе которых можно посчитать возможные убытки и прибыль от работы нашей модели, после того как заказчик определится с тем какие промокоды и скидки будут предоставляться пользователям. И график важности факторов, который можно будет учесть для дальнейшего сбора данных о пользователях и улучшения работы модели.\n",
    "    \n",
    "Наиболее трудозатратным этапом стала предобработка данных, что было ожидаемо на этапе планирования работы.\n",
    "   \n",
    "    \n",
    "</div>"
   ]
  },
  {
   "cell_type": "code",
   "execution_count": null,
   "metadata": {},
   "outputs": [],
   "source": []
  }
 ],
 "metadata": {
  "ExecuteTimeLog": [
   {
    "duration": 1146,
    "start_time": "2021-08-04T13:51:09.474Z"
   },
   {
    "duration": 93,
    "start_time": "2021-08-04T13:51:16.206Z"
   },
   {
    "duration": 18,
    "start_time": "2021-08-04T13:51:43.056Z"
   },
   {
    "duration": 15,
    "start_time": "2021-08-04T13:51:43.691Z"
   },
   {
    "duration": 11,
    "start_time": "2021-08-04T13:51:44.994Z"
   },
   {
    "duration": 13,
    "start_time": "2021-08-04T13:51:50.097Z"
   },
   {
    "duration": 34,
    "start_time": "2021-08-04T13:52:33.495Z"
   },
   {
    "duration": 20,
    "start_time": "2021-08-04T13:53:03.912Z"
   },
   {
    "duration": 4,
    "start_time": "2021-08-04T13:53:47.789Z"
   },
   {
    "duration": 29,
    "start_time": "2021-08-04T13:53:49.263Z"
   },
   {
    "duration": 21,
    "start_time": "2021-08-04T13:54:31.431Z"
   },
   {
    "duration": 10,
    "start_time": "2021-08-04T13:54:32.921Z"
   },
   {
    "duration": 7,
    "start_time": "2021-08-04T13:55:01.461Z"
   },
   {
    "duration": 10,
    "start_time": "2021-08-04T13:55:16.771Z"
   },
   {
    "duration": 6,
    "start_time": "2021-08-04T13:55:48.672Z"
   },
   {
    "duration": 4,
    "start_time": "2021-08-04T13:55:52.991Z"
   },
   {
    "duration": 2100,
    "start_time": "2021-08-04T13:56:58.273Z"
   },
   {
    "duration": 5,
    "start_time": "2021-08-04T13:57:45.777Z"
   },
   {
    "duration": 6,
    "start_time": "2021-08-04T13:57:55.984Z"
   },
   {
    "duration": 6,
    "start_time": "2021-08-04T13:57:58.319Z"
   },
   {
    "duration": 4,
    "start_time": "2021-08-04T13:58:24.239Z"
   },
   {
    "duration": 72,
    "start_time": "2021-08-04T13:58:26.044Z"
   },
   {
    "duration": 4,
    "start_time": "2021-08-04T13:59:20.506Z"
   },
   {
    "duration": 11,
    "start_time": "2021-08-04T13:59:29.206Z"
   },
   {
    "duration": 6,
    "start_time": "2021-08-04T13:59:30.676Z"
   },
   {
    "duration": 85441,
    "start_time": "2021-08-04T14:01:50.583Z"
   },
   {
    "duration": 176,
    "start_time": "2021-08-04T14:03:16.025Z"
   },
   {
    "duration": 1660,
    "start_time": "2021-08-04T14:03:45.042Z"
   },
   {
    "duration": 3902,
    "start_time": "2021-08-04T14:03:51.843Z"
   },
   {
    "duration": 5,
    "start_time": "2021-08-04T14:03:55.747Z"
   },
   {
    "duration": 8,
    "start_time": "2021-08-04T14:03:58.952Z"
   }
  ],
  "kernelspec": {
   "display_name": "Python 3",
   "language": "python",
   "name": "python3"
  },
  "language_info": {
   "codemirror_mode": {
    "name": "ipython",
    "version": 3
   },
   "file_extension": ".py",
   "mimetype": "text/x-python",
   "name": "python",
   "nbconvert_exporter": "python",
   "pygments_lexer": "ipython3",
   "version": "3.8.5"
  },
  "toc": {
   "base_numbering": 1,
   "nav_menu": {},
   "number_sections": true,
   "sideBar": true,
   "skip_h1_title": true,
   "title_cell": "Table of Contents",
   "title_sidebar": "Contents",
   "toc_cell": false,
   "toc_position": {},
   "toc_section_display": true,
   "toc_window_display": false
  }
 },
 "nbformat": 4,
 "nbformat_minor": 4
}
